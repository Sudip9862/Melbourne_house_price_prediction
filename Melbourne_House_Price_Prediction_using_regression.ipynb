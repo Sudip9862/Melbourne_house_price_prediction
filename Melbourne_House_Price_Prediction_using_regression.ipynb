{
 "cells": [
  {
   "cell_type": "markdown",
   "metadata": {},
   "source": [
    "<b>import the libraries"
   ]
  },
  {
   "cell_type": "code",
   "execution_count": 75,
   "metadata": {},
   "outputs": [],
   "source": [
    "#numpy\n",
    "import numpy as np\n",
    "#pandas\n",
    "import pandas as pd\n",
    "#seaborn\n",
    "import seaborn as sns\n",
    "#matplotlib\n",
    "import matplotlib.pyplot as plt\n",
    "%matplotlib inline"
   ]
  },
  {
   "cell_type": "markdown",
   "metadata": {},
   "source": [
    "<b>inserting the dataset (csv file) location"
   ]
  },
  {
   "cell_type": "code",
   "execution_count": 76,
   "metadata": {},
   "outputs": [],
   "source": [
    "#make sure there is no unicode code \n",
    "df=pd.read_csv('C:\\\\Users\\\\HP\\\\Desktop\\\\Machine Learning projects and datasets\\\\all ML datasets\\\\ml files\\\\cleaned_melbourn_housing_data.csv')"
   ]
  },
  {
   "cell_type": "markdown",
   "metadata": {},
   "source": [
    "<b> read the first 5 row of dataset"
   ]
  },
  {
   "cell_type": "code",
   "execution_count": 77,
   "metadata": {
    "scrolled": true
   },
   "outputs": [
    {
     "data": {
      "text/html": [
       "<div>\n",
       "<style scoped>\n",
       "    .dataframe tbody tr th:only-of-type {\n",
       "        vertical-align: middle;\n",
       "    }\n",
       "\n",
       "    .dataframe tbody tr th {\n",
       "        vertical-align: top;\n",
       "    }\n",
       "\n",
       "    .dataframe thead th {\n",
       "        text-align: right;\n",
       "    }\n",
       "</style>\n",
       "<table border=\"1\" class=\"dataframe\">\n",
       "  <thead>\n",
       "    <tr style=\"text-align: right;\">\n",
       "      <th></th>\n",
       "      <th>Suburb</th>\n",
       "      <th>Address</th>\n",
       "      <th>Rooms</th>\n",
       "      <th>Type</th>\n",
       "      <th>Price</th>\n",
       "      <th>Method</th>\n",
       "      <th>SellerG</th>\n",
       "      <th>Date</th>\n",
       "      <th>Distance</th>\n",
       "      <th>Postcode</th>\n",
       "      <th>Bathroom</th>\n",
       "      <th>Car</th>\n",
       "      <th>Landsize</th>\n",
       "      <th>CouncilArea</th>\n",
       "      <th>Lattitude</th>\n",
       "      <th>Longtitude</th>\n",
       "      <th>Regionname</th>\n",
       "      <th>Propertycount</th>\n",
       "    </tr>\n",
       "  </thead>\n",
       "  <tbody>\n",
       "    <tr>\n",
       "      <td>0</td>\n",
       "      <td>Abbotsford</td>\n",
       "      <td>85 Turner St</td>\n",
       "      <td>2</td>\n",
       "      <td>h</td>\n",
       "      <td>1480000</td>\n",
       "      <td>S</td>\n",
       "      <td>Biggin</td>\n",
       "      <td>3/12/2016</td>\n",
       "      <td>2.5</td>\n",
       "      <td>3067</td>\n",
       "      <td>1</td>\n",
       "      <td>1</td>\n",
       "      <td>202.0</td>\n",
       "      <td>Yarra City Council</td>\n",
       "      <td>-37.7996</td>\n",
       "      <td>144.9984</td>\n",
       "      <td>Northern Metropolitan</td>\n",
       "      <td>4019</td>\n",
       "    </tr>\n",
       "    <tr>\n",
       "      <td>1</td>\n",
       "      <td>Abbotsford</td>\n",
       "      <td>25 Bloomburg St</td>\n",
       "      <td>2</td>\n",
       "      <td>h</td>\n",
       "      <td>1035000</td>\n",
       "      <td>S</td>\n",
       "      <td>Biggin</td>\n",
       "      <td>4/02/2016</td>\n",
       "      <td>2.5</td>\n",
       "      <td>3067</td>\n",
       "      <td>1</td>\n",
       "      <td>0</td>\n",
       "      <td>156.0</td>\n",
       "      <td>Yarra City Council</td>\n",
       "      <td>-37.8079</td>\n",
       "      <td>144.9934</td>\n",
       "      <td>Northern Metropolitan</td>\n",
       "      <td>4019</td>\n",
       "    </tr>\n",
       "    <tr>\n",
       "      <td>2</td>\n",
       "      <td>Abbotsford</td>\n",
       "      <td>5 Charles St</td>\n",
       "      <td>3</td>\n",
       "      <td>h</td>\n",
       "      <td>1465000</td>\n",
       "      <td>SP</td>\n",
       "      <td>Biggin</td>\n",
       "      <td>4/03/2017</td>\n",
       "      <td>2.5</td>\n",
       "      <td>3067</td>\n",
       "      <td>2</td>\n",
       "      <td>0</td>\n",
       "      <td>134.0</td>\n",
       "      <td>Yarra City Council</td>\n",
       "      <td>-37.8093</td>\n",
       "      <td>144.9944</td>\n",
       "      <td>Northern Metropolitan</td>\n",
       "      <td>4019</td>\n",
       "    </tr>\n",
       "    <tr>\n",
       "      <td>3</td>\n",
       "      <td>Abbotsford</td>\n",
       "      <td>40 Federation La</td>\n",
       "      <td>3</td>\n",
       "      <td>h</td>\n",
       "      <td>850000</td>\n",
       "      <td>PI</td>\n",
       "      <td>Biggin</td>\n",
       "      <td>4/03/2017</td>\n",
       "      <td>2.5</td>\n",
       "      <td>3067</td>\n",
       "      <td>2</td>\n",
       "      <td>1</td>\n",
       "      <td>94.0</td>\n",
       "      <td>Yarra City Council</td>\n",
       "      <td>-37.7969</td>\n",
       "      <td>144.9969</td>\n",
       "      <td>Northern Metropolitan</td>\n",
       "      <td>4019</td>\n",
       "    </tr>\n",
       "    <tr>\n",
       "      <td>4</td>\n",
       "      <td>Abbotsford</td>\n",
       "      <td>55a Park St</td>\n",
       "      <td>4</td>\n",
       "      <td>h</td>\n",
       "      <td>1600000</td>\n",
       "      <td>VB</td>\n",
       "      <td>Nelson</td>\n",
       "      <td>4/06/2016</td>\n",
       "      <td>2.5</td>\n",
       "      <td>3067</td>\n",
       "      <td>1</td>\n",
       "      <td>2</td>\n",
       "      <td>120.0</td>\n",
       "      <td>Yarra City Council</td>\n",
       "      <td>-37.8072</td>\n",
       "      <td>144.9941</td>\n",
       "      <td>Northern Metropolitan</td>\n",
       "      <td>4019</td>\n",
       "    </tr>\n",
       "  </tbody>\n",
       "</table>\n",
       "</div>"
      ],
      "text/plain": [
       "       Suburb           Address  Rooms Type    Price Method SellerG  \\\n",
       "0  Abbotsford      85 Turner St      2    h  1480000      S  Biggin   \n",
       "1  Abbotsford   25 Bloomburg St      2    h  1035000      S  Biggin   \n",
       "2  Abbotsford      5 Charles St      3    h  1465000     SP  Biggin   \n",
       "3  Abbotsford  40 Federation La      3    h   850000     PI  Biggin   \n",
       "4  Abbotsford       55a Park St      4    h  1600000     VB  Nelson   \n",
       "\n",
       "        Date  Distance  Postcode  Bathroom  Car  Landsize         CouncilArea  \\\n",
       "0  3/12/2016       2.5      3067         1    1     202.0  Yarra City Council   \n",
       "1  4/02/2016       2.5      3067         1    0     156.0  Yarra City Council   \n",
       "2  4/03/2017       2.5      3067         2    0     134.0  Yarra City Council   \n",
       "3  4/03/2017       2.5      3067         2    1      94.0  Yarra City Council   \n",
       "4  4/06/2016       2.5      3067         1    2     120.0  Yarra City Council   \n",
       "\n",
       "   Lattitude  Longtitude             Regionname  Propertycount  \n",
       "0   -37.7996    144.9984  Northern Metropolitan           4019  \n",
       "1   -37.8079    144.9934  Northern Metropolitan           4019  \n",
       "2   -37.8093    144.9944  Northern Metropolitan           4019  \n",
       "3   -37.7969    144.9969  Northern Metropolitan           4019  \n",
       "4   -37.8072    144.9941  Northern Metropolitan           4019  "
      ]
     },
     "execution_count": 77,
     "metadata": {},
     "output_type": "execute_result"
    }
   ],
   "source": [
    "df.head()"
   ]
  },
  {
   "cell_type": "markdown",
   "metadata": {},
   "source": [
    "<b> read the last 5 row of dataset"
   ]
  },
  {
   "cell_type": "code",
   "execution_count": 78,
   "metadata": {},
   "outputs": [
    {
     "data": {
      "text/html": [
       "<div>\n",
       "<style scoped>\n",
       "    .dataframe tbody tr th:only-of-type {\n",
       "        vertical-align: middle;\n",
       "    }\n",
       "\n",
       "    .dataframe tbody tr th {\n",
       "        vertical-align: top;\n",
       "    }\n",
       "\n",
       "    .dataframe thead th {\n",
       "        text-align: right;\n",
       "    }\n",
       "</style>\n",
       "<table border=\"1\" class=\"dataframe\">\n",
       "  <thead>\n",
       "    <tr style=\"text-align: right;\">\n",
       "      <th></th>\n",
       "      <th>Suburb</th>\n",
       "      <th>Address</th>\n",
       "      <th>Rooms</th>\n",
       "      <th>Type</th>\n",
       "      <th>Price</th>\n",
       "      <th>Method</th>\n",
       "      <th>SellerG</th>\n",
       "      <th>Date</th>\n",
       "      <th>Distance</th>\n",
       "      <th>Postcode</th>\n",
       "      <th>Bathroom</th>\n",
       "      <th>Car</th>\n",
       "      <th>Landsize</th>\n",
       "      <th>CouncilArea</th>\n",
       "      <th>Lattitude</th>\n",
       "      <th>Longtitude</th>\n",
       "      <th>Regionname</th>\n",
       "      <th>Propertycount</th>\n",
       "    </tr>\n",
       "  </thead>\n",
       "  <tbody>\n",
       "    <tr>\n",
       "      <td>20307</td>\n",
       "      <td>Wollert</td>\n",
       "      <td>35 Kingscote Wy</td>\n",
       "      <td>3</td>\n",
       "      <td>h</td>\n",
       "      <td>570000</td>\n",
       "      <td>SP</td>\n",
       "      <td>RW</td>\n",
       "      <td>24/02/2018</td>\n",
       "      <td>25.5</td>\n",
       "      <td>3750</td>\n",
       "      <td>2</td>\n",
       "      <td>2</td>\n",
       "      <td>404.0</td>\n",
       "      <td>Whittlesea City Council</td>\n",
       "      <td>-37.61031</td>\n",
       "      <td>145.03393</td>\n",
       "      <td>Northern Metropolitan</td>\n",
       "      <td>2940</td>\n",
       "    </tr>\n",
       "    <tr>\n",
       "      <td>20308</td>\n",
       "      <td>Yarraville</td>\n",
       "      <td>13 Burns St</td>\n",
       "      <td>4</td>\n",
       "      <td>h</td>\n",
       "      <td>1480000</td>\n",
       "      <td>PI</td>\n",
       "      <td>Jas</td>\n",
       "      <td>24/02/2018</td>\n",
       "      <td>6.3</td>\n",
       "      <td>3013</td>\n",
       "      <td>1</td>\n",
       "      <td>3</td>\n",
       "      <td>593.0</td>\n",
       "      <td>Maribyrnong City Council</td>\n",
       "      <td>-37.81053</td>\n",
       "      <td>144.88467</td>\n",
       "      <td>Western Metropolitan</td>\n",
       "      <td>6543</td>\n",
       "    </tr>\n",
       "    <tr>\n",
       "      <td>20309</td>\n",
       "      <td>Yarraville</td>\n",
       "      <td>29A Murray St</td>\n",
       "      <td>2</td>\n",
       "      <td>h</td>\n",
       "      <td>888000</td>\n",
       "      <td>SP</td>\n",
       "      <td>Sweeney</td>\n",
       "      <td>24/02/2018</td>\n",
       "      <td>6.3</td>\n",
       "      <td>3013</td>\n",
       "      <td>2</td>\n",
       "      <td>1</td>\n",
       "      <td>98.0</td>\n",
       "      <td>Maribyrnong City Council</td>\n",
       "      <td>-37.81551</td>\n",
       "      <td>144.88826</td>\n",
       "      <td>Western Metropolitan</td>\n",
       "      <td>6543</td>\n",
       "    </tr>\n",
       "    <tr>\n",
       "      <td>20310</td>\n",
       "      <td>Yarraville</td>\n",
       "      <td>147A Severn St</td>\n",
       "      <td>2</td>\n",
       "      <td>t</td>\n",
       "      <td>705000</td>\n",
       "      <td>S</td>\n",
       "      <td>Jas</td>\n",
       "      <td>24/02/2018</td>\n",
       "      <td>6.3</td>\n",
       "      <td>3013</td>\n",
       "      <td>1</td>\n",
       "      <td>2</td>\n",
       "      <td>220.0</td>\n",
       "      <td>Maribyrnong City Council</td>\n",
       "      <td>-37.82286</td>\n",
       "      <td>144.87856</td>\n",
       "      <td>Western Metropolitan</td>\n",
       "      <td>6543</td>\n",
       "    </tr>\n",
       "    <tr>\n",
       "      <td>20311</td>\n",
       "      <td>Yarraville</td>\n",
       "      <td>3 Tarrengower St</td>\n",
       "      <td>2</td>\n",
       "      <td>h</td>\n",
       "      <td>1020000</td>\n",
       "      <td>PI</td>\n",
       "      <td>RW</td>\n",
       "      <td>24/02/2018</td>\n",
       "      <td>6.3</td>\n",
       "      <td>3013</td>\n",
       "      <td>1</td>\n",
       "      <td>0</td>\n",
       "      <td>250.0</td>\n",
       "      <td>Maribyrnong City Council</td>\n",
       "      <td>-37.81810</td>\n",
       "      <td>144.89351</td>\n",
       "      <td>Western Metropolitan</td>\n",
       "      <td>6543</td>\n",
       "    </tr>\n",
       "  </tbody>\n",
       "</table>\n",
       "</div>"
      ],
      "text/plain": [
       "           Suburb           Address  Rooms Type    Price Method  SellerG  \\\n",
       "20307     Wollert   35 Kingscote Wy      3    h   570000     SP       RW   \n",
       "20308  Yarraville       13 Burns St      4    h  1480000     PI      Jas   \n",
       "20309  Yarraville     29A Murray St      2    h   888000     SP  Sweeney   \n",
       "20310  Yarraville    147A Severn St      2    t   705000      S      Jas   \n",
       "20311  Yarraville  3 Tarrengower St      2    h  1020000     PI       RW   \n",
       "\n",
       "             Date  Distance  Postcode  Bathroom  Car  Landsize  \\\n",
       "20307  24/02/2018      25.5      3750         2    2     404.0   \n",
       "20308  24/02/2018       6.3      3013         1    3     593.0   \n",
       "20309  24/02/2018       6.3      3013         2    1      98.0   \n",
       "20310  24/02/2018       6.3      3013         1    2     220.0   \n",
       "20311  24/02/2018       6.3      3013         1    0     250.0   \n",
       "\n",
       "                    CouncilArea  Lattitude  Longtitude             Regionname  \\\n",
       "20307   Whittlesea City Council  -37.61031   145.03393  Northern Metropolitan   \n",
       "20308  Maribyrnong City Council  -37.81053   144.88467   Western Metropolitan   \n",
       "20309  Maribyrnong City Council  -37.81551   144.88826   Western Metropolitan   \n",
       "20310  Maribyrnong City Council  -37.82286   144.87856   Western Metropolitan   \n",
       "20311  Maribyrnong City Council  -37.81810   144.89351   Western Metropolitan   \n",
       "\n",
       "       Propertycount  \n",
       "20307           2940  \n",
       "20308           6543  \n",
       "20309           6543  \n",
       "20310           6543  \n",
       "20311           6543  "
      ]
     },
     "execution_count": 78,
     "metadata": {},
     "output_type": "execute_result"
    }
   ],
   "source": [
    "df.tail()"
   ]
  },
  {
   "cell_type": "markdown",
   "metadata": {},
   "source": [
    "<b> check how many null values are in dataset"
   ]
  },
  {
   "cell_type": "code",
   "execution_count": 79,
   "metadata": {},
   "outputs": [
    {
     "name": "stdout",
     "output_type": "stream",
     "text": [
      "<class 'pandas.core.frame.DataFrame'>\n",
      "RangeIndex: 20312 entries, 0 to 20311\n",
      "Data columns (total 18 columns):\n",
      "Suburb           20312 non-null object\n",
      "Address          20312 non-null object\n",
      "Rooms            20312 non-null int64\n",
      "Type             20312 non-null object\n",
      "Price            20312 non-null int64\n",
      "Method           20312 non-null object\n",
      "SellerG          20312 non-null object\n",
      "Date             20312 non-null object\n",
      "Distance         20312 non-null float64\n",
      "Postcode         20312 non-null int64\n",
      "Bathroom         20312 non-null int64\n",
      "Car              20312 non-null int64\n",
      "Landsize         20312 non-null float64\n",
      "CouncilArea      20312 non-null object\n",
      "Lattitude        20312 non-null float64\n",
      "Longtitude       20312 non-null float64\n",
      "Regionname       20312 non-null object\n",
      "Propertycount    20312 non-null int64\n",
      "dtypes: float64(4), int64(6), object(8)\n",
      "memory usage: 2.8+ MB\n"
     ]
    }
   ],
   "source": [
    "df.info()"
   ]
  },
  {
   "cell_type": "code",
   "execution_count": 80,
   "metadata": {},
   "outputs": [
    {
     "data": {
      "text/plain": [
       "Suburb           0\n",
       "Address          0\n",
       "Rooms            0\n",
       "Type             0\n",
       "Price            0\n",
       "Method           0\n",
       "SellerG          0\n",
       "Date             0\n",
       "Distance         0\n",
       "Postcode         0\n",
       "Bathroom         0\n",
       "Car              0\n",
       "Landsize         0\n",
       "CouncilArea      0\n",
       "Lattitude        0\n",
       "Longtitude       0\n",
       "Regionname       0\n",
       "Propertycount    0\n",
       "dtype: int64"
      ]
     },
     "execution_count": 80,
     "metadata": {},
     "output_type": "execute_result"
    }
   ],
   "source": [
    "df.isnull().sum()"
   ]
  },
  {
   "cell_type": "markdown",
   "metadata": {},
   "source": [
    "<b>shape of the dataset"
   ]
  },
  {
   "cell_type": "code",
   "execution_count": 81,
   "metadata": {},
   "outputs": [
    {
     "data": {
      "text/plain": [
       "(20312, 18)"
      ]
     },
     "execution_count": 81,
     "metadata": {},
     "output_type": "execute_result"
    }
   ],
   "source": [
    "df.shape"
   ]
  },
  {
   "cell_type": "markdown",
   "metadata": {},
   "source": [
    "<b>data preprocessing"
   ]
  },
  {
   "cell_type": "code",
   "execution_count": 82,
   "metadata": {},
   "outputs": [],
   "source": [
    "#label encoding is used to normalized the labels\n",
    "from sklearn.preprocessing import LabelEncoder"
   ]
  },
  {
   "cell_type": "code",
   "execution_count": 83,
   "metadata": {},
   "outputs": [],
   "source": [
    "#create a instance of LabelEncoding\n",
    "le =LabelEncoder()"
   ]
  },
  {
   "cell_type": "markdown",
   "metadata": {},
   "source": [
    "<b>transform categorical data to numerical data"
   ]
  },
  {
   "cell_type": "code",
   "execution_count": 84,
   "metadata": {},
   "outputs": [
    {
     "data": {
      "text/plain": [
       "array([  0,   2,   4,   6,   7,   9,  11,  12,  13,  14,  18,  20,  21,\n",
       "        22,  29,  30,  39,  40,  42,  43,  47,  49,  50,  56,  59,  61,\n",
       "        63,  64,  68,  70,  71,  72,  80,  81,  82,  84, 105, 110, 113,\n",
       "       116, 120, 121, 124, 127, 128, 129, 130, 139, 141, 142, 145, 147,\n",
       "       148, 150, 156, 157, 161, 164, 168, 171, 174, 175, 176, 183, 191,\n",
       "       192, 193, 194, 197, 204, 208, 211, 212, 221, 222, 224, 226, 229,\n",
       "       232, 237, 238, 243, 244, 245, 248, 249, 256, 265, 268, 270, 271,\n",
       "       272, 277, 278, 281, 282, 283, 284, 290, 293, 294, 301, 308, 314,\n",
       "       319, 320, 321, 324, 326,   1,  28,  48,  53,  60,  62, 111, 122,\n",
       "       125, 151, 155, 165, 166, 180, 181, 218, 234, 313,   5,  46, 138,\n",
       "       230, 254,  90, 267, 279, 295,  69, 264, 173, 135, 246,  23,  24,\n",
       "        27,  31,  37,  41,  44,  52,  55,  57,  58,  65,  75,  86,  87,\n",
       "        91,  96,  97, 102, 104, 106, 107, 108, 114, 119, 131, 132, 133,\n",
       "       134, 136, 137, 143, 146, 152, 158, 159, 162, 170, 172, 177, 179,\n",
       "       185, 189, 198, 202, 205, 206, 209, 214, 216, 219, 228, 231, 236,\n",
       "       242, 252, 255, 257, 260, 263, 266, 269, 273, 275, 280, 286, 287,\n",
       "       288, 291, 292, 296, 297, 299, 303, 304, 311, 315, 318, 322, 323,\n",
       "         8,  32,  33,  34,  36,  66,  73,  78, 109, 126, 140, 144, 154,\n",
       "       160, 195, 199, 200, 201, 213, 217, 251, 258, 262, 289, 300, 305,\n",
       "       309, 316,  35,  67,  79,  93, 186, 223, 227, 253, 285,   3,  26,\n",
       "        74,  95,  99, 115, 169, 196, 215, 225, 235, 250, 259, 261,  15,\n",
       "        76,  92,  94, 101, 103, 112, 149, 182, 276, 298,  19,  85,  88,\n",
       "       178, 210,  16,  51,  77,  98, 100, 163, 184, 118, 203, 233, 307,\n",
       "        10,  25, 274, 325,  45, 117, 317,  54,  17, 239, 302, 187, 188,\n",
       "       241, 207, 306, 240, 123, 153, 247,  38,  83,  89, 220, 310, 190,\n",
       "       167, 312], dtype=int64)"
      ]
     },
     "execution_count": 84,
     "metadata": {},
     "output_type": "execute_result"
    }
   ],
   "source": [
    "#now the data are in string format\n",
    "#required scaling\n",
    "#scaling the 'Suburb' column\n",
    "df['Suburb']= le.fit_transform(df['Suburb']) \n",
    "df['Suburb'].unique()"
   ]
  },
  {
   "cell_type": "code",
   "execution_count": 85,
   "metadata": {},
   "outputs": [
    {
     "data": {
      "text/plain": [
       "array([19060,  8749, 14590, ...,  9811,  4123, 10293], dtype=int64)"
      ]
     },
     "execution_count": 85,
     "metadata": {},
     "output_type": "execute_result"
    }
   ],
   "source": [
    "#scaling the 'Address' column\n",
    "df['Address']= le.fit_transform(df['Address'])\n",
    "df['Address'].unique()"
   ]
  },
  {
   "cell_type": "code",
   "execution_count": 86,
   "metadata": {},
   "outputs": [
    {
     "data": {
      "text/plain": [
       "array([1, 3, 0, 4, 2], dtype=int64)"
      ]
     },
     "execution_count": 86,
     "metadata": {},
     "output_type": "execute_result"
    }
   ],
   "source": [
    "#scaling the 'Method' column\n",
    "df['Method']= le.fit_transform(df['Method'])\n",
    "df['Method'].unique()"
   ]
  },
  {
   "cell_type": "code",
   "execution_count": 87,
   "metadata": {},
   "outputs": [
    {
     "data": {
      "text/plain": [
       "array([ 27, 191, 128, 103, 142,  61, 136,  21, 165,  34, 161,  18,  66,\n",
       "       245, 226, 169, 224, 109, 310, 273,  40, 233, 263,  51,  57,  33,\n",
       "       181, 171, 154,  17, 267, 288, 126, 104,  38, 300,  64,  86, 236,\n",
       "       118, 197, 113, 237, 100,  89, 304, 235, 292,   5, 294,  93, 265,\n",
       "       275, 228, 185, 106,  82, 219, 234, 198,  11,  58, 163, 230,  91,\n",
       "        14, 204, 199,  45,  19, 216,  87, 167,   7, 196, 153,   6,  22,\n",
       "       276,  81, 307,  96, 274, 121, 110,  77,  53, 218, 102, 311, 200,\n",
       "        20, 251,  99, 293,  52, 139, 225, 223,  15, 248,   2,  50, 321,\n",
       "        76, 195,   1, 238, 231,  74, 214, 285, 114, 259, 221, 208, 186,\n",
       "       301,  41, 213, 130, 241, 272,  47, 189, 268, 127,  85, 179,  71,\n",
       "        46, 187, 303, 111, 299,  67,  36,  80, 190, 239, 291, 143, 193,\n",
       "        78,  25, 131, 242,  59,  54,  97, 159,  83,  43, 289, 150, 192,\n",
       "       101, 312,  28, 298, 264, 215, 282,  55, 254,  48, 115, 308, 166,\n",
       "        75,  79, 156, 227, 140, 318, 316, 122, 120,  69, 157, 116, 202,\n",
       "       297, 295, 243, 207,  68, 168, 250, 240, 107, 119, 108, 309, 290,\n",
       "       180, 117, 174, 211, 205, 203, 244, 155, 252, 182, 320,   8,   0,\n",
       "       129,   3, 123,  49, 158, 319, 277, 112, 258, 283, 232, 287, 262,\n",
       "       183, 253, 302,  88,  13, 145, 184, 278, 152,  65, 222,  63,  94,\n",
       "       284, 217, 260, 247,  12, 280,  72, 306, 286, 296, 151, 270, 138,\n",
       "       149,  37,  26,   9, 146,  98, 137, 194,  32,  31, 176, 133, 175,\n",
       "       271, 206, 141,  73, 249,  92, 147, 132, 170, 257, 317,  10, 160,\n",
       "        84, 255, 210,  29, 229, 269, 246, 220, 144,  60, 188, 134, 105,\n",
       "        35,   4,  16,  23,  56, 266, 162, 281, 201, 177, 124, 164, 148,\n",
       "       173,  90,  39, 135,  30,  42,  44, 315,  24, 313, 178, 261, 305,\n",
       "        70, 125,  95,  62, 212, 279, 209, 314, 172, 256], dtype=int64)"
      ]
     },
     "execution_count": 87,
     "metadata": {},
     "output_type": "execute_result"
    }
   ],
   "source": [
    "#scaling the 'SellerG' column\n",
    "df['SellerG']= le.fit_transform(df['SellerG'])\n",
    "df['SellerG'].unique()"
   ]
  },
  {
   "cell_type": "code",
   "execution_count": 88,
   "metadata": {},
   "outputs": [
    {
     "data": {
      "text/plain": [
       "array([31, 22, 26,  6, 10, 27,  2, 21,  8, 28, 16,  1, 24, 15, 18,  0,  3,\n",
       "       12, 11, 13, 17,  5, 19,  9, 25, 29,  7, 14, 32, 30,  4, 23, 20],\n",
       "      dtype=int64)"
      ]
     },
     "execution_count": 88,
     "metadata": {},
     "output_type": "execute_result"
    }
   ],
   "source": [
    "#scaling the 'CouncilArea' column\n",
    "df['CouncilArea']= le.fit_transform(df['CouncilArea'])\n",
    "df['CouncilArea'].unique()"
   ]
  },
  {
   "cell_type": "code",
   "execution_count": 89,
   "metadata": {},
   "outputs": [
    {
     "data": {
      "text/plain": [
       "array([2, 6, 5, 0, 4, 1, 3, 7], dtype=int64)"
      ]
     },
     "execution_count": 89,
     "metadata": {},
     "output_type": "execute_result"
    }
   ],
   "source": [
    "#scaling the 'Regionname' column\n",
    "df['Regionname']= le.fit_transform(df['Regionname'])\n",
    "df['Regionname'].unique()"
   ]
  },
  {
   "cell_type": "code",
   "execution_count": 90,
   "metadata": {},
   "outputs": [
    {
     "data": {
      "text/plain": [
       "array([0, 2, 1], dtype=int64)"
      ]
     },
     "execution_count": 90,
     "metadata": {},
     "output_type": "execute_result"
    }
   ],
   "source": [
    "#scaling the 'Type' column\n",
    "df['Type']= le.fit_transform(df['Type'])\n",
    "df['Type'].unique()"
   ]
  },
  {
   "cell_type": "code",
   "execution_count": 91,
   "metadata": {},
   "outputs": [
    {
     "data": {
      "text/plain": [
       "array([60, 63, 64, 65, 70, 75, 10, 12, 13, 16, 18, 23, 24, 25, 28, 35, 40,\n",
       "       41, 43, 48, 50, 61, 58, 69, 72,  3,  4,  5, 17, 33, 36,  8, 47, 51,\n",
       "        6, 49, 68, 73, 53, 11, 30, 32,  0, 57, 22, 39, 46, 74,  9, 15, 34,\n",
       "       54, 59, 76, 19, 27, 37, 44, 71, 14, 31, 52, 62, 66,  7, 26, 42, 67,\n",
       "       77, 55,  1, 29, 45, 56,  2, 20, 21, 38], dtype=int64)"
      ]
     },
     "execution_count": 91,
     "metadata": {},
     "output_type": "execute_result"
    }
   ],
   "source": [
    "#scaling the 'Date' column\n",
    "df['Date']= le.fit_transform(df['Date'])\n",
    "df['Date'].unique()"
   ]
  },
  {
   "cell_type": "markdown",
   "metadata": {},
   "source": [
    "<b> display the dataset"
   ]
  },
  {
   "cell_type": "code",
   "execution_count": 92,
   "metadata": {
    "scrolled": true
   },
   "outputs": [
    {
     "data": {
      "text/html": [
       "<div>\n",
       "<style scoped>\n",
       "    .dataframe tbody tr th:only-of-type {\n",
       "        vertical-align: middle;\n",
       "    }\n",
       "\n",
       "    .dataframe tbody tr th {\n",
       "        vertical-align: top;\n",
       "    }\n",
       "\n",
       "    .dataframe thead th {\n",
       "        text-align: right;\n",
       "    }\n",
       "</style>\n",
       "<table border=\"1\" class=\"dataframe\">\n",
       "  <thead>\n",
       "    <tr style=\"text-align: right;\">\n",
       "      <th></th>\n",
       "      <th>Suburb</th>\n",
       "      <th>Address</th>\n",
       "      <th>Rooms</th>\n",
       "      <th>Type</th>\n",
       "      <th>Price</th>\n",
       "      <th>Method</th>\n",
       "      <th>SellerG</th>\n",
       "      <th>Date</th>\n",
       "      <th>Distance</th>\n",
       "      <th>Postcode</th>\n",
       "      <th>Bathroom</th>\n",
       "      <th>Car</th>\n",
       "      <th>Landsize</th>\n",
       "      <th>CouncilArea</th>\n",
       "      <th>Lattitude</th>\n",
       "      <th>Longtitude</th>\n",
       "      <th>Regionname</th>\n",
       "      <th>Propertycount</th>\n",
       "    </tr>\n",
       "  </thead>\n",
       "  <tbody>\n",
       "    <tr>\n",
       "      <td>0</td>\n",
       "      <td>0</td>\n",
       "      <td>19060</td>\n",
       "      <td>2</td>\n",
       "      <td>0</td>\n",
       "      <td>1480000</td>\n",
       "      <td>1</td>\n",
       "      <td>27</td>\n",
       "      <td>60</td>\n",
       "      <td>2.5</td>\n",
       "      <td>3067</td>\n",
       "      <td>1</td>\n",
       "      <td>1</td>\n",
       "      <td>202.0</td>\n",
       "      <td>31</td>\n",
       "      <td>-37.79960</td>\n",
       "      <td>144.99840</td>\n",
       "      <td>2</td>\n",
       "      <td>4019</td>\n",
       "    </tr>\n",
       "    <tr>\n",
       "      <td>1</td>\n",
       "      <td>0</td>\n",
       "      <td>8749</td>\n",
       "      <td>2</td>\n",
       "      <td>0</td>\n",
       "      <td>1035000</td>\n",
       "      <td>1</td>\n",
       "      <td>27</td>\n",
       "      <td>63</td>\n",
       "      <td>2.5</td>\n",
       "      <td>3067</td>\n",
       "      <td>1</td>\n",
       "      <td>0</td>\n",
       "      <td>156.0</td>\n",
       "      <td>31</td>\n",
       "      <td>-37.80790</td>\n",
       "      <td>144.99340</td>\n",
       "      <td>2</td>\n",
       "      <td>4019</td>\n",
       "    </tr>\n",
       "    <tr>\n",
       "      <td>2</td>\n",
       "      <td>0</td>\n",
       "      <td>14590</td>\n",
       "      <td>3</td>\n",
       "      <td>0</td>\n",
       "      <td>1465000</td>\n",
       "      <td>3</td>\n",
       "      <td>27</td>\n",
       "      <td>64</td>\n",
       "      <td>2.5</td>\n",
       "      <td>3067</td>\n",
       "      <td>2</td>\n",
       "      <td>0</td>\n",
       "      <td>134.0</td>\n",
       "      <td>31</td>\n",
       "      <td>-37.80930</td>\n",
       "      <td>144.99440</td>\n",
       "      <td>2</td>\n",
       "      <td>4019</td>\n",
       "    </tr>\n",
       "    <tr>\n",
       "      <td>3</td>\n",
       "      <td>0</td>\n",
       "      <td>13368</td>\n",
       "      <td>3</td>\n",
       "      <td>0</td>\n",
       "      <td>850000</td>\n",
       "      <td>0</td>\n",
       "      <td>27</td>\n",
       "      <td>64</td>\n",
       "      <td>2.5</td>\n",
       "      <td>3067</td>\n",
       "      <td>2</td>\n",
       "      <td>1</td>\n",
       "      <td>94.0</td>\n",
       "      <td>31</td>\n",
       "      <td>-37.79690</td>\n",
       "      <td>144.99690</td>\n",
       "      <td>2</td>\n",
       "      <td>4019</td>\n",
       "    </tr>\n",
       "    <tr>\n",
       "      <td>4</td>\n",
       "      <td>0</td>\n",
       "      <td>15744</td>\n",
       "      <td>4</td>\n",
       "      <td>0</td>\n",
       "      <td>1600000</td>\n",
       "      <td>4</td>\n",
       "      <td>191</td>\n",
       "      <td>65</td>\n",
       "      <td>2.5</td>\n",
       "      <td>3067</td>\n",
       "      <td>1</td>\n",
       "      <td>2</td>\n",
       "      <td>120.0</td>\n",
       "      <td>31</td>\n",
       "      <td>-37.80720</td>\n",
       "      <td>144.99410</td>\n",
       "      <td>2</td>\n",
       "      <td>4019</td>\n",
       "    </tr>\n",
       "    <tr>\n",
       "      <td>...</td>\n",
       "      <td>...</td>\n",
       "      <td>...</td>\n",
       "      <td>...</td>\n",
       "      <td>...</td>\n",
       "      <td>...</td>\n",
       "      <td>...</td>\n",
       "      <td>...</td>\n",
       "      <td>...</td>\n",
       "      <td>...</td>\n",
       "      <td>...</td>\n",
       "      <td>...</td>\n",
       "      <td>...</td>\n",
       "      <td>...</td>\n",
       "      <td>...</td>\n",
       "      <td>...</td>\n",
       "      <td>...</td>\n",
       "      <td>...</td>\n",
       "      <td>...</td>\n",
       "    </tr>\n",
       "    <tr>\n",
       "      <td>20307</td>\n",
       "      <td>322</td>\n",
       "      <td>11868</td>\n",
       "      <td>3</td>\n",
       "      <td>0</td>\n",
       "      <td>570000</td>\n",
       "      <td>3</td>\n",
       "      <td>234</td>\n",
       "      <td>38</td>\n",
       "      <td>25.5</td>\n",
       "      <td>3750</td>\n",
       "      <td>2</td>\n",
       "      <td>2</td>\n",
       "      <td>404.0</td>\n",
       "      <td>29</td>\n",
       "      <td>-37.61031</td>\n",
       "      <td>145.03393</td>\n",
       "      <td>2</td>\n",
       "      <td>2940</td>\n",
       "    </tr>\n",
       "    <tr>\n",
       "      <td>20308</td>\n",
       "      <td>326</td>\n",
       "      <td>3191</td>\n",
       "      <td>4</td>\n",
       "      <td>0</td>\n",
       "      <td>1480000</td>\n",
       "      <td>0</td>\n",
       "      <td>126</td>\n",
       "      <td>38</td>\n",
       "      <td>6.3</td>\n",
       "      <td>3013</td>\n",
       "      <td>1</td>\n",
       "      <td>3</td>\n",
       "      <td>593.0</td>\n",
       "      <td>16</td>\n",
       "      <td>-37.81053</td>\n",
       "      <td>144.88467</td>\n",
       "      <td>6</td>\n",
       "      <td>6543</td>\n",
       "    </tr>\n",
       "    <tr>\n",
       "      <td>20309</td>\n",
       "      <td>326</td>\n",
       "      <td>9811</td>\n",
       "      <td>2</td>\n",
       "      <td>0</td>\n",
       "      <td>888000</td>\n",
       "      <td>3</td>\n",
       "      <td>267</td>\n",
       "      <td>38</td>\n",
       "      <td>6.3</td>\n",
       "      <td>3013</td>\n",
       "      <td>2</td>\n",
       "      <td>1</td>\n",
       "      <td>98.0</td>\n",
       "      <td>16</td>\n",
       "      <td>-37.81551</td>\n",
       "      <td>144.88826</td>\n",
       "      <td>6</td>\n",
       "      <td>6543</td>\n",
       "    </tr>\n",
       "    <tr>\n",
       "      <td>20310</td>\n",
       "      <td>326</td>\n",
       "      <td>4123</td>\n",
       "      <td>2</td>\n",
       "      <td>1</td>\n",
       "      <td>705000</td>\n",
       "      <td>1</td>\n",
       "      <td>126</td>\n",
       "      <td>38</td>\n",
       "      <td>6.3</td>\n",
       "      <td>3013</td>\n",
       "      <td>1</td>\n",
       "      <td>2</td>\n",
       "      <td>220.0</td>\n",
       "      <td>16</td>\n",
       "      <td>-37.82286</td>\n",
       "      <td>144.87856</td>\n",
       "      <td>6</td>\n",
       "      <td>6543</td>\n",
       "    </tr>\n",
       "    <tr>\n",
       "      <td>20311</td>\n",
       "      <td>326</td>\n",
       "      <td>10293</td>\n",
       "      <td>2</td>\n",
       "      <td>0</td>\n",
       "      <td>1020000</td>\n",
       "      <td>0</td>\n",
       "      <td>234</td>\n",
       "      <td>38</td>\n",
       "      <td>6.3</td>\n",
       "      <td>3013</td>\n",
       "      <td>1</td>\n",
       "      <td>0</td>\n",
       "      <td>250.0</td>\n",
       "      <td>16</td>\n",
       "      <td>-37.81810</td>\n",
       "      <td>144.89351</td>\n",
       "      <td>6</td>\n",
       "      <td>6543</td>\n",
       "    </tr>\n",
       "  </tbody>\n",
       "</table>\n",
       "<p>20312 rows × 18 columns</p>\n",
       "</div>"
      ],
      "text/plain": [
       "       Suburb  Address  Rooms  Type    Price  Method  SellerG  Date  Distance  \\\n",
       "0           0    19060      2     0  1480000       1       27    60       2.5   \n",
       "1           0     8749      2     0  1035000       1       27    63       2.5   \n",
       "2           0    14590      3     0  1465000       3       27    64       2.5   \n",
       "3           0    13368      3     0   850000       0       27    64       2.5   \n",
       "4           0    15744      4     0  1600000       4      191    65       2.5   \n",
       "...       ...      ...    ...   ...      ...     ...      ...   ...       ...   \n",
       "20307     322    11868      3     0   570000       3      234    38      25.5   \n",
       "20308     326     3191      4     0  1480000       0      126    38       6.3   \n",
       "20309     326     9811      2     0   888000       3      267    38       6.3   \n",
       "20310     326     4123      2     1   705000       1      126    38       6.3   \n",
       "20311     326    10293      2     0  1020000       0      234    38       6.3   \n",
       "\n",
       "       Postcode  Bathroom  Car  Landsize  CouncilArea  Lattitude  Longtitude  \\\n",
       "0          3067         1    1     202.0           31  -37.79960   144.99840   \n",
       "1          3067         1    0     156.0           31  -37.80790   144.99340   \n",
       "2          3067         2    0     134.0           31  -37.80930   144.99440   \n",
       "3          3067         2    1      94.0           31  -37.79690   144.99690   \n",
       "4          3067         1    2     120.0           31  -37.80720   144.99410   \n",
       "...         ...       ...  ...       ...          ...        ...         ...   \n",
       "20307      3750         2    2     404.0           29  -37.61031   145.03393   \n",
       "20308      3013         1    3     593.0           16  -37.81053   144.88467   \n",
       "20309      3013         2    1      98.0           16  -37.81551   144.88826   \n",
       "20310      3013         1    2     220.0           16  -37.82286   144.87856   \n",
       "20311      3013         1    0     250.0           16  -37.81810   144.89351   \n",
       "\n",
       "       Regionname  Propertycount  \n",
       "0               2           4019  \n",
       "1               2           4019  \n",
       "2               2           4019  \n",
       "3               2           4019  \n",
       "4               2           4019  \n",
       "...           ...            ...  \n",
       "20307           2           2940  \n",
       "20308           6           6543  \n",
       "20309           6           6543  \n",
       "20310           6           6543  \n",
       "20311           6           6543  \n",
       "\n",
       "[20312 rows x 18 columns]"
      ]
     },
     "execution_count": 92,
     "metadata": {},
     "output_type": "execute_result"
    }
   ],
   "source": [
    "df"
   ]
  },
  {
   "cell_type": "markdown",
   "metadata": {},
   "source": [
    "<b> importing required libraries"
   ]
  },
  {
   "cell_type": "code",
   "execution_count": 93,
   "metadata": {},
   "outputs": [],
   "source": [
    "#importing train_test_split for splitting the sata\n",
    "from sklearn.model_selection import train_test_split\n",
    "#importing for preprocessing the data\n",
    "from sklearn import preprocessing\n",
    "#It's a Regression problem\n",
    "#importing the random forest Regressor\n",
    "from sklearn.ensemble import RandomForestRegressor\n",
    "#importing mean_squared_error\n",
    "from sklearn.metrics import mean_squared_error"
   ]
  },
  {
   "cell_type": "markdown",
   "metadata": {},
   "source": [
    "<b> splitting into two sets"
   ]
  },
  {
   "cell_type": "code",
   "execution_count": 94,
   "metadata": {},
   "outputs": [],
   "source": [
    "# y consists of only price column \n",
    "y = df.Price\n",
    "# x consists of all feature columns except price column\n",
    "X = df.drop('Price', axis=1)"
   ]
  },
  {
   "cell_type": "markdown",
   "metadata": {},
   "source": [
    "<b> SalePrice correlation matrix"
   ]
  },
  {
   "cell_type": "code",
   "execution_count": 95,
   "metadata": {},
   "outputs": [
    {
     "data": {
      "image/png": "[encoded data removed]",
      "text/plain": [
       "<Figure size 576x432 with 2 Axes>"
      ]
     },
     "metadata": {
      "needs_background": "light"
     },
     "output_type": "display_data"
    }
   ],
   "source": [
    "correlationmatrix = df.corr()\n",
    "f, ax = plt.subplots(figsize=(8,6))\n",
    "sns.set(font_scale=0.5)\n",
    "sns.heatmap(correlationmatrix,annot=True, square=True, fmt='.4f', vmax=.8);"
   ]
  },
  {
   "cell_type": "markdown",
   "metadata": {},
   "source": [
    "<b> choosing features to check the collinearity between them"
   ]
  },
  {
   "cell_type": "code",
   "execution_count": 96,
   "metadata": {},
   "outputs": [
    {
     "data": {
      "image/png": "[encoded data removed]",
      "text/plain": [
       "<Figure size 576x432 with 2 Axes>"
      ]
     },
     "metadata": {},
     "output_type": "display_data"
    }
   ],
   "source": [
    "correlationcolumns = ['Price', 'Rooms', 'Type', 'Distance','Bathroom', 'Car','Landsize']\n",
    "correlationmatrix = df[correlationcolumns].corr()\n",
    "f, ax = plt.subplots(figsize=(8, 6))\n",
    "sns.set(font_scale=0.65)\n",
    "sns.heatmap(correlationmatrix,annot=True, square=True, fmt='.2f', vmax=.9);"
   ]
  },
  {
   "cell_type": "markdown",
   "metadata": {},
   "source": [
    "<b> spliting the dataset into training set and test set"
   ]
  },
  {
   "cell_type": "code",
   "execution_count": 97,
   "metadata": {},
   "outputs": [],
   "source": [
    "X_train, X_test, y_train, y_test = train_test_split(X, y, test_size=0.2, random_state=42)"
   ]
  },
  {
   "cell_type": "code",
   "execution_count": 98,
   "metadata": {},
   "outputs": [
    {
     "data": {
      "text/html": [
       "<div>\n",
       "<style scoped>\n",
       "    .dataframe tbody tr th:only-of-type {\n",
       "        vertical-align: middle;\n",
       "    }\n",
       "\n",
       "    .dataframe tbody tr th {\n",
       "        vertical-align: top;\n",
       "    }\n",
       "\n",
       "    .dataframe thead th {\n",
       "        text-align: right;\n",
       "    }\n",
       "</style>\n",
       "<table border=\"1\" class=\"dataframe\">\n",
       "  <thead>\n",
       "    <tr style=\"text-align: right;\">\n",
       "      <th></th>\n",
       "      <th>Suburb</th>\n",
       "      <th>Address</th>\n",
       "      <th>Rooms</th>\n",
       "      <th>Type</th>\n",
       "      <th>Method</th>\n",
       "      <th>SellerG</th>\n",
       "      <th>Date</th>\n",
       "      <th>Distance</th>\n",
       "      <th>Postcode</th>\n",
       "      <th>Bathroom</th>\n",
       "      <th>Car</th>\n",
       "      <th>Landsize</th>\n",
       "      <th>CouncilArea</th>\n",
       "      <th>Lattitude</th>\n",
       "      <th>Longtitude</th>\n",
       "      <th>Regionname</th>\n",
       "      <th>Propertycount</th>\n",
       "    </tr>\n",
       "  </thead>\n",
       "  <tbody>\n",
       "    <tr>\n",
       "      <td>5866</td>\n",
       "      <td>277</td>\n",
       "      <td>5615</td>\n",
       "      <td>3</td>\n",
       "      <td>2</td>\n",
       "      <td>3</td>\n",
       "      <td>301</td>\n",
       "      <td>48</td>\n",
       "      <td>6.1</td>\n",
       "      <td>3182</td>\n",
       "      <td>1</td>\n",
       "      <td>1</td>\n",
       "      <td>1181.5</td>\n",
       "      <td>26</td>\n",
       "      <td>-37.86120</td>\n",
       "      <td>144.98500</td>\n",
       "      <td>5</td>\n",
       "      <td>13240</td>\n",
       "    </tr>\n",
       "    <tr>\n",
       "      <td>17552</td>\n",
       "      <td>134</td>\n",
       "      <td>18645</td>\n",
       "      <td>3</td>\n",
       "      <td>0</td>\n",
       "      <td>1</td>\n",
       "      <td>18</td>\n",
       "      <td>67</td>\n",
       "      <td>38.0</td>\n",
       "      <td>3199</td>\n",
       "      <td>1</td>\n",
       "      <td>2</td>\n",
       "      <td>786.0</td>\n",
       "      <td>7</td>\n",
       "      <td>-38.16371</td>\n",
       "      <td>145.13384</td>\n",
       "      <td>4</td>\n",
       "      <td>7566</td>\n",
       "    </tr>\n",
       "    <tr>\n",
       "      <td>2505</td>\n",
       "      <td>124</td>\n",
       "      <td>1126</td>\n",
       "      <td>2</td>\n",
       "      <td>2</td>\n",
       "      <td>1</td>\n",
       "      <td>310</td>\n",
       "      <td>24</td>\n",
       "      <td>5.8</td>\n",
       "      <td>3078</td>\n",
       "      <td>1</td>\n",
       "      <td>1</td>\n",
       "      <td>1658.0</td>\n",
       "      <td>6</td>\n",
       "      <td>-37.77810</td>\n",
       "      <td>145.01570</td>\n",
       "      <td>2</td>\n",
       "      <td>2970</td>\n",
       "    </tr>\n",
       "    <tr>\n",
       "      <td>19104</td>\n",
       "      <td>82</td>\n",
       "      <td>13588</td>\n",
       "      <td>3</td>\n",
       "      <td>0</td>\n",
       "      <td>1</td>\n",
       "      <td>18</td>\n",
       "      <td>20</td>\n",
       "      <td>6.7</td>\n",
       "      <td>3058</td>\n",
       "      <td>1</td>\n",
       "      <td>4</td>\n",
       "      <td>648.0</td>\n",
       "      <td>6</td>\n",
       "      <td>-37.72597</td>\n",
       "      <td>144.96446</td>\n",
       "      <td>2</td>\n",
       "      <td>3445</td>\n",
       "    </tr>\n",
       "    <tr>\n",
       "      <td>12148</td>\n",
       "      <td>269</td>\n",
       "      <td>19457</td>\n",
       "      <td>3</td>\n",
       "      <td>0</td>\n",
       "      <td>1</td>\n",
       "      <td>106</td>\n",
       "      <td>54</td>\n",
       "      <td>20.5</td>\n",
       "      <td>3752</td>\n",
       "      <td>2</td>\n",
       "      <td>4</td>\n",
       "      <td>806.0</td>\n",
       "      <td>29</td>\n",
       "      <td>-37.65498</td>\n",
       "      <td>145.08712</td>\n",
       "      <td>2</td>\n",
       "      <td>7969</td>\n",
       "    </tr>\n",
       "    <tr>\n",
       "      <td>...</td>\n",
       "      <td>...</td>\n",
       "      <td>...</td>\n",
       "      <td>...</td>\n",
       "      <td>...</td>\n",
       "      <td>...</td>\n",
       "      <td>...</td>\n",
       "      <td>...</td>\n",
       "      <td>...</td>\n",
       "      <td>...</td>\n",
       "      <td>...</td>\n",
       "      <td>...</td>\n",
       "      <td>...</td>\n",
       "      <td>...</td>\n",
       "      <td>...</td>\n",
       "      <td>...</td>\n",
       "      <td>...</td>\n",
       "      <td>...</td>\n",
       "    </tr>\n",
       "    <tr>\n",
       "      <td>11284</td>\n",
       "      <td>46</td>\n",
       "      <td>943</td>\n",
       "      <td>2</td>\n",
       "      <td>2</td>\n",
       "      <td>3</td>\n",
       "      <td>310</td>\n",
       "      <td>15</td>\n",
       "      <td>6.4</td>\n",
       "      <td>3012</td>\n",
       "      <td>1</td>\n",
       "      <td>1</td>\n",
       "      <td>199.0</td>\n",
       "      <td>3</td>\n",
       "      <td>-37.82212</td>\n",
       "      <td>144.84477</td>\n",
       "      <td>6</td>\n",
       "      <td>962</td>\n",
       "    </tr>\n",
       "    <tr>\n",
       "      <td>11964</td>\n",
       "      <td>110</td>\n",
       "      <td>5391</td>\n",
       "      <td>4</td>\n",
       "      <td>0</td>\n",
       "      <td>1</td>\n",
       "      <td>181</td>\n",
       "      <td>54</td>\n",
       "      <td>8.9</td>\n",
       "      <td>3084</td>\n",
       "      <td>2</td>\n",
       "      <td>3</td>\n",
       "      <td>1783.0</td>\n",
       "      <td>0</td>\n",
       "      <td>-37.76457</td>\n",
       "      <td>145.06555</td>\n",
       "      <td>0</td>\n",
       "      <td>1651</td>\n",
       "    </tr>\n",
       "    <tr>\n",
       "      <td>5390</td>\n",
       "      <td>249</td>\n",
       "      <td>5775</td>\n",
       "      <td>3</td>\n",
       "      <td>0</td>\n",
       "      <td>1</td>\n",
       "      <td>128</td>\n",
       "      <td>35</td>\n",
       "      <td>2.6</td>\n",
       "      <td>3121</td>\n",
       "      <td>1</td>\n",
       "      <td>1</td>\n",
       "      <td>181.0</td>\n",
       "      <td>31</td>\n",
       "      <td>-37.82030</td>\n",
       "      <td>145.00920</td>\n",
       "      <td>2</td>\n",
       "      <td>14949</td>\n",
       "    </tr>\n",
       "    <tr>\n",
       "      <td>860</td>\n",
       "      <td>30</td>\n",
       "      <td>5518</td>\n",
       "      <td>3</td>\n",
       "      <td>0</td>\n",
       "      <td>3</td>\n",
       "      <td>40</td>\n",
       "      <td>17</td>\n",
       "      <td>13.9</td>\n",
       "      <td>3165</td>\n",
       "      <td>1</td>\n",
       "      <td>2</td>\n",
       "      <td>588.0</td>\n",
       "      <td>8</td>\n",
       "      <td>-37.92860</td>\n",
       "      <td>145.06900</td>\n",
       "      <td>5</td>\n",
       "      <td>10969</td>\n",
       "    </tr>\n",
       "    <tr>\n",
       "      <td>15795</td>\n",
       "      <td>2</td>\n",
       "      <td>13970</td>\n",
       "      <td>4</td>\n",
       "      <td>0</td>\n",
       "      <td>3</td>\n",
       "      <td>18</td>\n",
       "      <td>52</td>\n",
       "      <td>10.4</td>\n",
       "      <td>3042</td>\n",
       "      <td>2</td>\n",
       "      <td>1</td>\n",
       "      <td>276.0</td>\n",
       "      <td>22</td>\n",
       "      <td>-37.72564</td>\n",
       "      <td>144.86843</td>\n",
       "      <td>6</td>\n",
       "      <td>3464</td>\n",
       "    </tr>\n",
       "  </tbody>\n",
       "</table>\n",
       "<p>16249 rows × 17 columns</p>\n",
       "</div>"
      ],
      "text/plain": [
       "       Suburb  Address  Rooms  Type  Method  SellerG  Date  Distance  \\\n",
       "5866      277     5615      3     2       3      301    48       6.1   \n",
       "17552     134    18645      3     0       1       18    67      38.0   \n",
       "2505      124     1126      2     2       1      310    24       5.8   \n",
       "19104      82    13588      3     0       1       18    20       6.7   \n",
       "12148     269    19457      3     0       1      106    54      20.5   \n",
       "...       ...      ...    ...   ...     ...      ...   ...       ...   \n",
       "11284      46      943      2     2       3      310    15       6.4   \n",
       "11964     110     5391      4     0       1      181    54       8.9   \n",
       "5390      249     5775      3     0       1      128    35       2.6   \n",
       "860        30     5518      3     0       3       40    17      13.9   \n",
       "15795       2    13970      4     0       3       18    52      10.4   \n",
       "\n",
       "       Postcode  Bathroom  Car  Landsize  CouncilArea  Lattitude  Longtitude  \\\n",
       "5866       3182         1    1    1181.5           26  -37.86120   144.98500   \n",
       "17552      3199         1    2     786.0            7  -38.16371   145.13384   \n",
       "2505       3078         1    1    1658.0            6  -37.77810   145.01570   \n",
       "19104      3058         1    4     648.0            6  -37.72597   144.96446   \n",
       "12148      3752         2    4     806.0           29  -37.65498   145.08712   \n",
       "...         ...       ...  ...       ...          ...        ...         ...   \n",
       "11284      3012         1    1     199.0            3  -37.82212   144.84477   \n",
       "11964      3084         2    3    1783.0            0  -37.76457   145.06555   \n",
       "5390       3121         1    1     181.0           31  -37.82030   145.00920   \n",
       "860        3165         1    2     588.0            8  -37.92860   145.06900   \n",
       "15795      3042         2    1     276.0           22  -37.72564   144.86843   \n",
       "\n",
       "       Regionname  Propertycount  \n",
       "5866            5          13240  \n",
       "17552           4           7566  \n",
       "2505            2           2970  \n",
       "19104           2           3445  \n",
       "12148           2           7969  \n",
       "...           ...            ...  \n",
       "11284           6            962  \n",
       "11964           0           1651  \n",
       "5390            2          14949  \n",
       "860             5          10969  \n",
       "15795           6           3464  \n",
       "\n",
       "[16249 rows x 17 columns]"
      ]
     },
     "execution_count": 98,
     "metadata": {},
     "output_type": "execute_result"
    }
   ],
   "source": [
    "X_train"
   ]
  },
  {
   "cell_type": "markdown",
   "metadata": {},
   "source": [
    "<b> preprocessing using standardscaler"
   ]
  },
  {
   "cell_type": "code",
   "execution_count": 99,
   "metadata": {
    "scrolled": true
   },
   "outputs": [
    {
     "data": {
      "text/plain": [
       "StandardScaler(copy=True, with_mean=True, with_std=True)"
      ]
     },
     "execution_count": 99,
     "metadata": {},
     "output_type": "execute_result"
    }
   ],
   "source": [
    "#scaling of x_train\n",
    "sc = preprocessing.StandardScaler().fit(X_train)\n",
    "sc"
   ]
  },
  {
   "cell_type": "code",
   "execution_count": 100,
   "metadata": {},
   "outputs": [
    {
     "data": {
      "text/plain": [
       "array([[ 1.23644744, -0.75400133, -0.078442  , ..., -0.10848538,\n",
       "         0.63987007,  1.30051714],\n",
       "       [-0.28647036,  1.50834518, -0.078442  , ...,  1.125139  ,\n",
       "         0.15789117,  0.01121495],\n",
       "       [-0.3929681 , -1.53340834, -1.14149795, ...,  0.14596415,\n",
       "        -0.80606662, -1.03313345],\n",
       "       ...,\n",
       "       [ 0.93825374, -0.72622117, -0.078442  , ...,  0.09209047,\n",
       "        -0.80606662,  1.68885295],\n",
       "       [-1.39404693, -0.77084305, -0.078442  , ...,  0.58772832,\n",
       "         0.63987007,  0.78447814],\n",
       "       [-1.69224062,  0.69664373,  0.98461395, ..., -1.07464766,\n",
       "         1.12184897, -0.9208819 ]])"
      ]
     },
     "execution_count": 100,
     "metadata": {},
     "output_type": "execute_result"
    }
   ],
   "source": [
    "#x_train consists of many columns \n",
    "#scaling of those columns\n",
    "X_train = sc.transform(X_train)\n",
    "X_train\n"
   ]
  },
  {
   "cell_type": "code",
   "execution_count": 101,
   "metadata": {},
   "outputs": [
    {
     "data": {
      "text/plain": [
       "array([1., 1., 1., 1., 1., 1., 1., 1., 1., 1., 1., 1., 1., 1., 1., 1., 1.])"
      ]
     },
     "execution_count": 101,
     "metadata": {},
     "output_type": "execute_result"
    }
   ],
   "source": [
    "#standard deviation\n",
    "X_train.std(axis=0)"
   ]
  },
  {
   "cell_type": "code",
   "execution_count": 102,
   "metadata": {},
   "outputs": [
    {
     "data": {
      "text/plain": [
       "array([ 1.50862972e-16,  1.07134575e-16, -1.64418776e-16, -9.62024751e-18,\n",
       "       -2.36133348e-17,  1.74913591e-18,  1.48676553e-17,  8.74567956e-19,\n",
       "       -1.79636258e-15,  6.99654365e-18, -3.71691381e-17,  7.87111160e-17,\n",
       "       -3.14844464e-17, -3.08549761e-14,  2.50224824e-14,  6.12197569e-17,\n",
       "        9.62024751e-17])"
      ]
     },
     "execution_count": 102,
     "metadata": {},
     "output_type": "execute_result"
    }
   ],
   "source": [
    "#mean of all columns individually\n",
    "X_train.mean(axis=0)"
   ]
  },
  {
   "cell_type": "code",
   "execution_count": 103,
   "metadata": {},
   "outputs": [],
   "source": [
    "#scaling of x_test set\n",
    "X_test = sc.transform(X_test)"
   ]
  },
  {
   "cell_type": "code",
   "execution_count": 104,
   "metadata": {},
   "outputs": [
    {
     "data": {
      "text/plain": [
       "array([ 0.04058231,  0.01155083, -0.03213117,  0.01279201, -0.02572315,\n",
       "        0.01043963,  0.01735973, -0.01819674, -0.03483138, -0.03514178,\n",
       "        0.00905981,  0.00323406, -0.01054547,  0.02569742, -0.03120164,\n",
       "        0.00213476,  0.00497953])"
      ]
     },
     "execution_count": 104,
     "metadata": {},
     "output_type": "execute_result"
    }
   ],
   "source": [
    "#mean of all columns in x_test set\n",
    "X_test.mean(axis=0)"
   ]
  },
  {
   "cell_type": "code",
   "execution_count": 105,
   "metadata": {},
   "outputs": [
    {
     "data": {
      "text/plain": [
       "array([1.00575414, 0.99611408, 1.02200826, 1.01460317, 0.97875786,\n",
       "       1.00669335, 0.98834694, 0.99063898, 0.95801472, 1.00912747,\n",
       "       1.04308053, 1.03805378, 1.00345433, 0.99705831, 0.98054718,\n",
       "       0.99152072, 1.00361934])"
      ]
     },
     "execution_count": 105,
     "metadata": {},
     "output_type": "execute_result"
    }
   ],
   "source": [
    "#Standard deviation of all columns in x_test set\n",
    "X_test.std(axis=0)"
   ]
  },
  {
   "cell_type": "markdown",
   "metadata": {},
   "source": [
    "<b>Use PCA algorithm to reduce the number of features to speed up training "
   ]
  },
  {
   "cell_type": "code",
   "execution_count": 106,
   "metadata": {},
   "outputs": [],
   "source": [
    "#Use PCA algorithm to reduce the number of features to speed up training \n",
    "from sklearn.decomposition import PCA\n",
    "pca = PCA(.95)\n",
    "pca.fit(X_train)\n",
    "\n",
    "X_train = pca.transform(X_train)\n",
    "X_test = pca.transform(X_test)"
   ]
  },
  {
   "cell_type": "markdown",
   "metadata": {},
   "source": [
    "<b>In this case xgboost has given the best accuracy"
   ]
  },
  {
   "cell_type": "code",
   "execution_count": 107,
   "metadata": {},
   "outputs": [],
   "source": [
    "#instance of Random Forest Regression\n",
    "#rnd=RandomForestRegressor(n_estimators=100)\n",
    "#from sklearn.tree import DecisionTreeRegressor\n",
    "#rnd = DecisionTreeRegressor(random_state=1, splitter='best')\n",
    "#from sklearn.linear_model import LinearRegression\n",
    "#rnd = LinearRegression()\n",
    "import xgboost as xgb\n",
    "xg = xgb.XGBRegressor(objective ='reg:squarederror',colsample_bytree=0.4, gamma=0, \n",
    "                       min_child_weight=1.5, reg_alpha=0.75, reg_lambda=0.45, subsample=0.6, \n",
    "                       seed=42, learning_rate = 0.1, max_depth = 5, alpha = 10, n_estimators = 1000)"
   ]
  },
  {
   "cell_type": "code",
   "execution_count": 108,
   "metadata": {},
   "outputs": [],
   "source": [
    "# #fit the model\n",
    "# xg.fit(X_train,y_train)"
   ]
  },
  {
   "cell_type": "markdown",
   "metadata": {},
   "source": [
    "<b>cross-validation:- KFold (to avoid overfitting)"
   ]
  },
  {
   "cell_type": "code",
   "execution_count": 109,
   "metadata": {},
   "outputs": [
    {
     "name": "stdout",
     "output_type": "stream",
     "text": [
      "16249 4063\n"
     ]
    },
    {
     "name": "stderr",
     "output_type": "stream",
     "text": [
      "C:\\ProgramData\\Anaconda3\\lib\\site-packages\\xgboost\\core.py:587: FutureWarning: Series.base is deprecated and will be removed in a future version\n",
      "  if getattr(data, 'base', None) is not None and \\\n"
     ]
    },
    {
     "name": "stdout",
     "output_type": "stream",
     "text": [
      "Training Accuracy: 0.9585789969327182\n",
      "Testing Accuracy: 0.8016517677779579\n",
      "16249 4063\n"
     ]
    },
    {
     "name": "stderr",
     "output_type": "stream",
     "text": [
      "C:\\ProgramData\\Anaconda3\\lib\\site-packages\\xgboost\\core.py:587: FutureWarning: Series.base is deprecated and will be removed in a future version\n",
      "  if getattr(data, 'base', None) is not None and \\\n"
     ]
    },
    {
     "name": "stdout",
     "output_type": "stream",
     "text": [
      "Training Accuracy: 0.9582684122338813\n",
      "Testing Accuracy: 0.7731339009703445\n",
      "16250 4062\n"
     ]
    },
    {
     "name": "stderr",
     "output_type": "stream",
     "text": [
      "C:\\ProgramData\\Anaconda3\\lib\\site-packages\\xgboost\\core.py:587: FutureWarning: Series.base is deprecated and will be removed in a future version\n",
      "  if getattr(data, 'base', None) is not None and \\\n"
     ]
    },
    {
     "name": "stdout",
     "output_type": "stream",
     "text": [
      "Training Accuracy: 0.9576645141740829\n",
      "Testing Accuracy: 0.7877127046748632\n",
      "16250 4062\n"
     ]
    },
    {
     "name": "stderr",
     "output_type": "stream",
     "text": [
      "C:\\ProgramData\\Anaconda3\\lib\\site-packages\\xgboost\\core.py:587: FutureWarning: Series.base is deprecated and will be removed in a future version\n",
      "  if getattr(data, 'base', None) is not None and \\\n"
     ]
    },
    {
     "name": "stdout",
     "output_type": "stream",
     "text": [
      "Training Accuracy: 0.9601053022895145\n",
      "Testing Accuracy: 0.7732111944656451\n",
      "16250 4062\n"
     ]
    },
    {
     "name": "stderr",
     "output_type": "stream",
     "text": [
      "C:\\ProgramData\\Anaconda3\\lib\\site-packages\\xgboost\\core.py:587: FutureWarning: Series.base is deprecated and will be removed in a future version\n",
      "  if getattr(data, 'base', None) is not None and \\\n"
     ]
    },
    {
     "name": "stdout",
     "output_type": "stream",
     "text": [
      "Training Accuracy: 0.9568417127922468\n",
      "Testing Accuracy: 0.8253888884080196\n"
     ]
    }
   ],
   "source": [
    "from sklearn.metrics import r2_score\n",
    "from sklearn.model_selection import KFold\n",
    "n_split = KFold(5)\n",
    "for train,valid in n_split.split(X):\n",
    "    print(train.__len__(),valid.__len__())\n",
    "  \n",
    "    xx_train = X.loc[train]\n",
    "    yy_train = y[train]\n",
    "    xg.fit(xx_train,yy_train)\n",
    "    \n",
    "    xx_valid  =X.loc[valid]\n",
    "    yy_valid = y[valid]\n",
    "    \n",
    "    yy_pred=xg.predict(xx_valid)\n",
    "    print(\"Training Accuracy:\",xg.score(xx_train,yy_train))\n",
    "    print(\"Testing Accuracy:\",r2_score(yy_valid,yy_pred))"
   ]
  },
  {
   "cell_type": "markdown",
   "metadata": {},
   "source": [
    "<b> model accuracy"
   ]
  },
  {
   "cell_type": "code",
   "execution_count": 111,
   "metadata": {},
   "outputs": [],
   "source": [
    "yy_pred=xg.predict(xx_valid)"
   ]
  },
  {
   "cell_type": "code",
   "execution_count": 112,
   "metadata": {},
   "outputs": [
    {
     "data": {
      "text/plain": [
       "array([692765.75, 748564.06, 592247.  , 488986.47, 560455.75],\n",
       "      dtype=float32)"
      ]
     },
     "execution_count": 112,
     "metadata": {},
     "output_type": "execute_result"
    }
   ],
   "source": [
    "yy_pred[:5]"
   ]
  },
  {
   "cell_type": "code",
   "execution_count": 113,
   "metadata": {},
   "outputs": [
    {
     "data": {
      "text/plain": [
       "16250     659000\n",
       "16251     773000\n",
       "16252     617500\n",
       "16253     476500\n",
       "16254     590000\n",
       "          ...   \n",
       "20307     570000\n",
       "20308    1480000\n",
       "20309     888000\n",
       "20310     705000\n",
       "20311    1020000\n",
       "Name: Price, Length: 4062, dtype: int64"
      ]
     },
     "execution_count": 113,
     "metadata": {},
     "output_type": "execute_result"
    }
   ],
   "source": [
    "yy_valid"
   ]
  },
  {
   "cell_type": "code",
   "execution_count": 114,
   "metadata": {},
   "outputs": [
    {
     "data": {
      "text/plain": [
       "(4062,)"
      ]
     },
     "execution_count": 114,
     "metadata": {},
     "output_type": "execute_result"
    }
   ],
   "source": [
    "yy_pred.shape"
   ]
  },
  {
   "cell_type": "code",
   "execution_count": 115,
   "metadata": {},
   "outputs": [
    {
     "data": {
      "text/plain": [
       "(4062,)"
      ]
     },
     "execution_count": 115,
     "metadata": {},
     "output_type": "execute_result"
    }
   ],
   "source": [
    "yy_valid.shape"
   ]
  },
  {
   "cell_type": "markdown",
   "metadata": {},
   "source": [
    "<b>original price vs predicted price using seaborn graph"
   ]
  },
  {
   "cell_type": "code",
   "execution_count": 116,
   "metadata": {},
   "outputs": [
    {
     "data": {
      "text/plain": [
       "<seaborn.axisgrid.JointGrid at 0x22f04718d48>"
      ]
     },
     "execution_count": 116,
     "metadata": {},
     "output_type": "execute_result"
    },
    {
     "data": {
      "image/png": "[encoded data removed]",
      "text/plain": [
       "<Figure size 432x432 with 3 Axes>"
      ]
     },
     "metadata": {},
     "output_type": "display_data"
    }
   ],
   "source": [
    "#Plot the actual Price value against predicted Sale Price \n",
    "s = sns.jointplot(x= yy_valid, y= yy_pred, kind='reg', xlim=(0,4000000), ylim=(0,4000000), joint_kws={'line_kws':{'color':'red'}})\n",
    "s.set_axis_labels(xlabel='Original Price', ylabel='Predicted Price')"
   ]
  },
  {
   "cell_type": "markdown",
   "metadata": {},
   "source": [
    "<b>MSE and r2_score"
   ]
  },
  {
   "cell_type": "code",
   "execution_count": 117,
   "metadata": {},
   "outputs": [
    {
     "name": "stdout",
     "output_type": "stream",
     "text": [
      "[7.92806403e+10]\n",
      "0.8253888884080196\n"
     ]
    }
   ],
   "source": [
    "from sklearn.metrics import mean_squared_error,r2_score\n",
    "print(mean_squared_error(yy_valid,yy_pred,multioutput='raw_values'))\n",
    "print(r2_score(yy_valid,yy_pred))"
   ]
  },
  {
   "cell_type": "code",
   "execution_count": null,
   "metadata": {},
   "outputs": [],
   "source": []
  }
 ],
 "metadata": {
  "kernelspec": {
   "display_name": "Python 3",
   "language": "python",
   "name": "python3"
  },
  "language_info": {
   "codemirror_mode": {
    "name": "ipython",
    "version": 3
   },
   "file_extension": ".py",
   "mimetype": "text/x-python",
   "name": "python",
   "nbconvert_exporter": "python",
   "pygments_lexer": "ipython3",
   "version": "3.7.4"
  }
 },
 "nbformat": 4,
 "nbformat_minor": 2
}
